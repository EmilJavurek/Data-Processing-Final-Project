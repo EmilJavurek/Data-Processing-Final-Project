{
 "cells": [
  {
   "cell_type": "markdown",
   "id": "c5c9175a",
   "metadata": {},
   "source": [
    "# Latent Dirichlet Allocation (LDA) for book topic creation\n",
    "\n",
    "Emil Javurek\n",
    "13331124\n",
    "\n",
    "\n",
    "\n",
    "I will take my scraped data about books and feed their descriptions into an LDA model to find general \"topic\" groups of books. Finally, I plan to compare this with the genres of the books that goodreads records."
   ]
  },
  {
   "cell_type": "markdown",
   "id": "06b4b3e8",
   "metadata": {},
   "source": [
    "### Step 1 - Setup"
   ]
  },
  {
   "cell_type": "code",
   "execution_count": 1,
   "id": "0700672f",
   "metadata": {},
   "outputs": [
    {
     "name": "stderr",
     "output_type": "stream",
     "text": [
      "C:\\Users\\HP\\anaconda3\\lib\\site-packages\\past\\builtins\\misc.py:45: DeprecationWarning: the imp module is deprecated in favour of importlib; see the module's documentation for alternative uses\n",
      "  from imp import reload\n",
      "C:\\Users\\HP\\anaconda3\\lib\\site-packages\\gensim\\matutils.py:22: DeprecationWarning: Please use `triu` from the `scipy.linalg` namespace, the `scipy.linalg.special_matrices` namespace is deprecated.\n",
      "  from scipy.linalg.special_matrices import triu\n"
     ]
    }
   ],
   "source": [
    "#import\n",
    "import pandas as pd\n",
    "import matplotlib.pyplot as plt\n",
    "import seaborn as sns\n",
    "sns.set()\n",
    "import spacy\n",
    "import pyLDAvis.gensim_models\n",
    "pyLDAvis.enable_notebook()# Visualise inside a notebook\n",
    "import en_core_web_md\n",
    "from gensim.corpora.dictionary import Dictionary\n",
    "from gensim.models import LdaMulticore\n",
    "from gensim.models import CoherenceModel\n",
    "import ast"
   ]
  },
  {
   "cell_type": "code",
   "execution_count": 2,
   "id": "3595d330",
   "metadata": {},
   "outputs": [],
   "source": [
    "#read data\n",
    "books = pd.read_csv('to_read_books_scraped.csv')"
   ]
  },
  {
   "cell_type": "code",
   "execution_count": 26,
   "id": "f6456a0b",
   "metadata": {},
   "outputs": [
    {
     "data": {
      "text/html": [
       "<div>\n",
       "<style scoped>\n",
       "    .dataframe tbody tr th:only-of-type {\n",
       "        vertical-align: middle;\n",
       "    }\n",
       "\n",
       "    .dataframe tbody tr th {\n",
       "        vertical-align: top;\n",
       "    }\n",
       "\n",
       "    .dataframe thead th {\n",
       "        text-align: right;\n",
       "    }\n",
       "</style>\n",
       "<table border=\"1\" class=\"dataframe\">\n",
       "  <thead>\n",
       "    <tr style=\"text-align: right;\">\n",
       "      <th></th>\n",
       "      <th>link</th>\n",
       "      <th>name</th>\n",
       "      <th>author</th>\n",
       "      <th>description</th>\n",
       "      <th>rating</th>\n",
       "      <th>number_of_ratings</th>\n",
       "      <th>number_of_reviews</th>\n",
       "      <th>genres</th>\n",
       "      <th>tokens</th>\n",
       "      <th>topic</th>\n",
       "    </tr>\n",
       "  </thead>\n",
       "  <tbody>\n",
       "    <tr>\n",
       "      <th>0</th>\n",
       "      <td>https://www.goodreads.com//book/show/2657.To_K...</td>\n",
       "      <td>To Kill a Mockingbird</td>\n",
       "      <td>Harper Lee</td>\n",
       "      <td>The unforgettable novel of a childhood in a sl...</td>\n",
       "      <td>4.27</td>\n",
       "      <td>5496564</td>\n",
       "      <td>107012</td>\n",
       "      <td>['Classics', 'Fiction', 'Historical', 'Histori...</td>\n",
       "      <td>[unforgettable, childhood, sleepy, southern, t...</td>\n",
       "      <td>0</td>\n",
       "    </tr>\n",
       "    <tr>\n",
       "      <th>1</th>\n",
       "      <td>https://www.goodreads.com//book/show/61439040-...</td>\n",
       "      <td>1984</td>\n",
       "      <td>George Orwell</td>\n",
       "      <td>The new novel by George Orwell is the major wo...</td>\n",
       "      <td>4.19</td>\n",
       "      <td>4022078</td>\n",
       "      <td>95604</td>\n",
       "      <td>['Classics', 'Fiction', 'Science Fiction', 'Sc...</td>\n",
       "      <td>[george, orwell, major, work, previous, writin...</td>\n",
       "      <td>0</td>\n",
       "    </tr>\n",
       "    <tr>\n",
       "      <th>2</th>\n",
       "      <td>https://www.goodreads.com//book/show/1885.Prid...</td>\n",
       "      <td>Pride and Prejudice</td>\n",
       "      <td>Jane Austen</td>\n",
       "      <td>Since its immediate success in 1813,   has rem...</td>\n",
       "      <td>4.28</td>\n",
       "      <td>3790329</td>\n",
       "      <td>94287</td>\n",
       "      <td>['Classics', 'Fiction', 'Romance', 'Historical...</td>\n",
       "      <td>[immediate, success, remain, popular, novel, e...</td>\n",
       "      <td>0</td>\n",
       "    </tr>\n",
       "    <tr>\n",
       "      <th>3</th>\n",
       "      <td>https://www.goodreads.com//book/show/19063.The...</td>\n",
       "      <td>The Book Thief</td>\n",
       "      <td>Markus Zusak</td>\n",
       "      <td>It is 1939. Nazi Germany. The country is holdi...</td>\n",
       "      <td>4.39</td>\n",
       "      <td>2276991</td>\n",
       "      <td>131841</td>\n",
       "      <td>['Historical', 'Historical Fiction', 'Fiction'...</td>\n",
       "      <td>[nazi, germany, country, hold, breath, death, ...</td>\n",
       "      <td>2</td>\n",
       "    </tr>\n",
       "    <tr>\n",
       "      <th>4</th>\n",
       "      <td>https://www.goodreads.com//book/show/11870085-...</td>\n",
       "      <td>The Fault in Our Stars</td>\n",
       "      <td>John Green</td>\n",
       "      <td>Despite the tumor-shrinking medical miracle th...</td>\n",
       "      <td>4.16</td>\n",
       "      <td>4569603</td>\n",
       "      <td>169957</td>\n",
       "      <td>['Young Adult', 'Romance', 'Fiction', 'Contemp...</td>\n",
       "      <td>[despite, tumor, shrink, medical, miracle, buy...</td>\n",
       "      <td>0</td>\n",
       "    </tr>\n",
       "  </tbody>\n",
       "</table>\n",
       "</div>"
      ],
      "text/plain": [
       "                                                link                    name  \\\n",
       "0  https://www.goodreads.com//book/show/2657.To_K...   To Kill a Mockingbird   \n",
       "1  https://www.goodreads.com//book/show/61439040-...                    1984   \n",
       "2  https://www.goodreads.com//book/show/1885.Prid...     Pride and Prejudice   \n",
       "3  https://www.goodreads.com//book/show/19063.The...          The Book Thief   \n",
       "4  https://www.goodreads.com//book/show/11870085-...  The Fault in Our Stars   \n",
       "\n",
       "          author                                        description  rating  \\\n",
       "0     Harper Lee  The unforgettable novel of a childhood in a sl...    4.27   \n",
       "1  George Orwell  The new novel by George Orwell is the major wo...    4.19   \n",
       "2    Jane Austen  Since its immediate success in 1813,   has rem...    4.28   \n",
       "3   Markus Zusak  It is 1939. Nazi Germany. The country is holdi...    4.39   \n",
       "4     John Green  Despite the tumor-shrinking medical miracle th...    4.16   \n",
       "\n",
       "   number_of_ratings  number_of_reviews  \\\n",
       "0            5496564             107012   \n",
       "1            4022078              95604   \n",
       "2            3790329              94287   \n",
       "3            2276991             131841   \n",
       "4            4569603             169957   \n",
       "\n",
       "                                              genres  \\\n",
       "0  ['Classics', 'Fiction', 'Historical', 'Histori...   \n",
       "1  ['Classics', 'Fiction', 'Science Fiction', 'Sc...   \n",
       "2  ['Classics', 'Fiction', 'Romance', 'Historical...   \n",
       "3  ['Historical', 'Historical Fiction', 'Fiction'...   \n",
       "4  ['Young Adult', 'Romance', 'Fiction', 'Contemp...   \n",
       "\n",
       "                                              tokens  topic  \n",
       "0  [unforgettable, childhood, sleepy, southern, t...      0  \n",
       "1  [george, orwell, major, work, previous, writin...      0  \n",
       "2  [immediate, success, remain, popular, novel, e...      0  \n",
       "3  [nazi, germany, country, hold, breath, death, ...      2  \n",
       "4  [despite, tumor, shrink, medical, miracle, buy...      0  "
      ]
     },
     "metadata": {},
     "output_type": "display_data"
    },
    {
     "name": "stdout",
     "output_type": "stream",
     "text": [
      "<class 'pandas.core.frame.DataFrame'>\n",
      "RangeIndex: 1175 entries, 0 to 1174\n",
      "Data columns (total 10 columns):\n",
      " #   Column             Non-Null Count  Dtype  \n",
      "---  ------             --------------  -----  \n",
      " 0   link               1175 non-null   object \n",
      " 1   name               1175 non-null   object \n",
      " 2   author             1175 non-null   object \n",
      " 3   description        1175 non-null   object \n",
      " 4   rating             1175 non-null   float64\n",
      " 5   number_of_ratings  1175 non-null   int64  \n",
      " 6   number_of_reviews  1175 non-null   int64  \n",
      " 7   genres             1175 non-null   object \n",
      " 8   tokens             1175 non-null   object \n",
      " 9   topic              1175 non-null   int64  \n",
      "dtypes: float64(1), int64(3), object(6)\n",
      "memory usage: 91.9+ KB\n"
     ]
    },
    {
     "data": {
      "text/plain": [
       "None"
      ]
     },
     "metadata": {},
     "output_type": "display_data"
    }
   ],
   "source": [
    "display(books.head(5))\n",
    "#delete rows with missing values\n",
    "books = books.dropna().reset_index(drop=True)\n",
    "display(books.info())\n",
    "\n",
    "#make genres column containt list of genres not string\n",
    "books[\"genres\"] = books[\"genres\"].map(lambda x: ast.literal_eval(x))"
   ]
  },
  {
   "cell_type": "markdown",
   "id": "698b034f",
   "metadata": {},
   "source": [
    "#### We are left with 1175 books\n",
    "I believe this is a reasonable amount of data to work with. Of course, the more data, the better the result but this should be enough."
   ]
  },
  {
   "cell_type": "markdown",
   "id": "3776ecbd",
   "metadata": {},
   "source": [
    "### Step 2 - Preprocessing the data\n",
    "\n",
    "We don't want to work with string, we want to work with tokens.\n",
    "We use the en_core_web_md pretrained model to tokenize our book description text.\n",
    "We keep only a certain type of token.\n",
    "Finally, we put tokens into a Gensim Dictionary (token, unique id, frequency counter) and into corpus (only id and frequency), which will be plugged into the model"
   ]
  },
  {
   "cell_type": "code",
   "execution_count": 4,
   "id": "7a56e232",
   "metadata": {},
   "outputs": [],
   "source": [
    "#spaCy (pretrained) model\n",
    "\n",
    "nlp = en_core_web_md.load()"
   ]
  },
  {
   "cell_type": "code",
   "execution_count": 5,
   "id": "7d2c9389",
   "metadata": {},
   "outputs": [],
   "source": [
    "#remove Tags I don't want\n",
    "remove_tags= ['ADV','PRON','CCONJ','PUNCT','PART','DET','ADP','SPACE', 'NUM', 'SYM']\n",
    "\n",
    "#add undesired words to stop words\n",
    "nlp.Defaults.stop_words |= {\"book\",\"author\",\"life\",\"novel\",\"reader\",\"edition\",\"writer\",\"write\",\"new\",\"world\",\"story\",\"year\"}\n",
    "\n",
    "#tokenize descriptions\n",
    "tokens = []\n",
    "\n",
    "#run it through the pretrained en_core_web_md model to create tokens from words\n",
    "for description in nlp.pipe(books[\"description\"]):\n",
    "    tokenized_description = []\n",
    "    #keep only desired tokens\n",
    "    for token in description:\n",
    "        #select correct Part-Of-Speech tags, skip tokens in stopwords and skip non-alphabetic\n",
    "        if token.pos_ not in remove_tags and not token.is_stop and token.is_alpha:\n",
    "            #append just lowercase lemma of token\n",
    "            tokenized_description.append(token.lemma_.lower())\n",
    "    tokens.append(tokenized_description)\n",
    "\n",
    "books['tokens'] = tokens\n"
   ]
  },
  {
   "cell_type": "code",
   "execution_count": 6,
   "id": "596e939e",
   "metadata": {},
   "outputs": [
    {
     "data": {
      "text/plain": [
       "0       [unforgettable, childhood, sleepy, southern, t...\n",
       "1       [george, orwell, major, work, previous, writin...\n",
       "2       [immediate, success, remain, popular, novel, e...\n",
       "3       [nazi, germany, country, hold, breath, death, ...\n",
       "4       [despite, tumor, shrink, medical, miracle, buy...\n",
       "                              ...                        \n",
       "1170    [hemingway, memory, unknown, live, paris, twen...\n",
       "1171    [time, rose, stop, wrong, thing, mistake, haun...\n",
       "1172    [graphic, debut, rise, star, nd, stevenson, ba...\n",
       "1173    [sookie, stackhouse, small, time, cocktail, wa...\n",
       "1174    [hazel, camille, bradford, know, lot, man, cha...\n",
       "Name: tokens, Length: 1175, dtype: object"
      ]
     },
     "metadata": {},
     "output_type": "display_data"
    }
   ],
   "source": [
    "display(books['tokens'])"
   ]
  },
  {
   "cell_type": "code",
   "execution_count": 18,
   "id": "4c00c0cf",
   "metadata": {},
   "outputs": [],
   "source": [
    "# Create dictionary - that is, Dictionary Object from Gensim\n",
    "# Each token assigned unique id and a frequency of occurence kept (total and in how many documents)\n",
    "dictionary = Dictionary(books['tokens'])\n"
   ]
  },
  {
   "cell_type": "code",
   "execution_count": 8,
   "id": "a9577529",
   "metadata": {},
   "outputs": [],
   "source": [
    "# Filter dictionary - at least in 5 books, at most in __% of books, keep ___ most frequent tokens \n",
    "dictionary.filter_extremes(no_below=5, no_above=0.5, keep_n=1000)\n",
    "\n",
    "# Create corpus - bag of words - vector of word ids and their frequencies \n",
    "corpus = [dictionary.doc2bow(doc) for doc in books['tokens']]"
   ]
  },
  {
   "cell_type": "markdown",
   "id": "87932a40",
   "metadata": {},
   "source": [
    "### Step 3 - Build the model\n",
    "\n",
    "We need to figure out how many topics to create. We use the C_v algorithm to determine this.\n",
    "We use the LdaMulticore model and employ 4 workers (CPU cores) to speed up the training. This way my computer manages it in a few minutes."
   ]
  },
  {
   "cell_type": "code",
   "execution_count": 9,
   "id": "f6aacdd4",
   "metadata": {
    "scrolled": true
   },
   "outputs": [
    {
     "data": {
      "image/png": "[encoded data removed]",
      "text/plain": [
       "<Figure size 640x480 with 1 Axes>"
      ]
     },
     "metadata": {},
     "output_type": "display_data"
    }
   ],
   "source": [
    "#see how many topics makes sense:\n",
    "\n",
    "# Coherence score using C_v: - (0 to 1, higher = better)\n",
    "topics = []\n",
    "score = []\n",
    "for i in range(1,15,1):\n",
    "   lda_model = LdaMulticore(corpus=corpus, id2word=dictionary, iterations=10, num_topics=i, workers = 4, passes=10, random_state=100)\n",
    "   cm = CoherenceModel(model=lda_model, texts = books['tokens'], corpus=corpus, dictionary=dictionary, coherence='c_v')\n",
    "   topics.append(i)\n",
    "   score.append(cm.get_coherence())\n",
    "_=plt.plot(topics, score)\n",
    "_=plt.xlabel('Number of Topics')\n",
    "_=plt.ylabel('Coherence Score')\n",
    "plt.show()"
   ]
  },
  {
   "cell_type": "markdown",
   "id": "781967ef",
   "metadata": {},
   "source": [
    "We will go with 4 topics"
   ]
  },
  {
   "cell_type": "code",
   "execution_count": 10,
   "id": "52c1b478",
   "metadata": {},
   "outputs": [],
   "source": [
    "# Optimal model\n",
    "lda_model = LdaMulticore(corpus=corpus, id2word=dictionary, iterations=100, num_topics=4, workers = 4, passes=100)\n"
   ]
  },
  {
   "cell_type": "markdown",
   "id": "69ef4aec",
   "metadata": {},
   "source": [
    "### Step 4 - Visualization\n",
    "\n",
    "Now that we have the topics, we need to visualize the results. We look at a few properties of the model and then we make 2 main visualizations: <br>\n",
    "1) PCA (principle component analysis) <br>\n",
    "2) Genres assignment to topics"
   ]
  },
  {
   "cell_type": "code",
   "execution_count": 11,
   "id": "0e31d843",
   "metadata": {},
   "outputs": [
    {
     "data": {
      "text/plain": [
       "[(0,\n",
       "  '0.016*\"people\" + 0.015*\"way\" + 0.010*\"time\" + 0.010*\"change\" + 0.009*\"woman\" + 0.009*\"work\" + 0.008*\"life\" + 0.007*\"human\" + 0.007*\"company\" + 0.007*\"business\"'),\n",
       " (1,\n",
       "  '0.012*\"find\" + 0.012*\"power\" + 0.011*\"war\" + 0.008*\"love\" + 0.008*\"know\" + 0.008*\"secret\" + 0.007*\"fight\" + 0.006*\"magic\" + 0.006*\"heart\" + 0.006*\"king\"'),\n",
       " (2,\n",
       "  '0.014*\"great\" + 0.014*\"work\" + 0.011*\"man\" + 0.011*\"classic\" + 0.011*\"history\" + 0.010*\"century\" + 0.010*\"american\" + 0.009*\"year\" + 0.009*\"reader\" + 0.009*\"character\"'),\n",
       " (3,\n",
       "  '0.017*\"love\" + 0.014*\"family\" + 0.013*\"find\" + 0.012*\"old\" + 0.011*\"know\" + 0.010*\"secret\" + 0.009*\"day\" + 0.009*\"mother\" + 0.009*\"year\" + 0.009*\"friend\"')]"
      ]
     },
     "execution_count": 11,
     "metadata": {},
     "output_type": "execute_result"
    }
   ],
   "source": [
    "# Print topics (as described by words)\n",
    "lda_model.print_topics(-1)\n"
   ]
  },
  {
   "cell_type": "code",
   "execution_count": 20,
   "id": "f6a23719",
   "metadata": {},
   "outputs": [
    {
     "name": "stdout",
     "output_type": "stream",
     "text": [
      "To Kill a Mockingbird\n",
      "[(0, 0.13558693), (1, 0.08625948), (2, 0.6966818), (3, 0.081471786)]\n",
      "The unforgettable novel of a childhood in a sleepy Southern town and the crisis of conscience that rocked it. \"To Kill A Mockingbird\" became both an instant bestseller and a critical success when it was first published in 1960. It went on to win the Pulitzer Prize in 1961 and was later made into an Academy Award-winning film, also a classic. Compassionate, dramatic, and deeply moving, \"To Kill A Mockingbird\" takes readers to the roots of human behavior - to innocence and experience, kindness and cruelty, love and hatred, humor and pathos. Now with over 18 million copies in print and translated into forty languages, this regional story by a young Alabama woman claims universal appeal. Harper Lee always considered her book to be a simple love story. Today it is regarded as a masterpiece of American literature.\n"
     ]
    }
   ],
   "source": [
    "# Where does a text belong to - example first book\n",
    "print(books[\"name\"][0])\n",
    "print(lda_model[corpus][0])\n",
    "print(books['description'][0])\n"
   ]
  },
  {
   "cell_type": "code",
   "execution_count": 13,
   "id": "be0291b0",
   "metadata": {},
   "outputs": [
    {
     "name": "stderr",
     "output_type": "stream",
     "text": [
      "C:\\Users\\HP\\anaconda3\\lib\\site-packages\\pyLDAvis\\_prepare.py:246: FutureWarning: In a future version of pandas all arguments of DataFrame.drop except for the argument 'labels' will be keyword-only.\n",
      "  default_term_info = default_term_info.sort_values(\n"
     ]
    },
    {
     "data": {
      "text/html": [
       "\n",
       "<link rel=\"stylesheet\" type=\"text/css\" href=\"https://cdn.jsdelivr.net/gh/bmabey/pyLDAvis@3.3.1/pyLDAvis/js/ldavis.v1.0.0.css\">\n",
       "\n",
       "\n",
       "<div id=\"ldavis_el1830023927489978726026811611\"></div>\n",
       "<script type=\"text/javascript\">\n",
       "\n",
       "var ldavis_el1830023927489978726026811611_data = {\"mdsDat\": {\"x\": [0.122014561999755, 0.13483349400361297, -0.06915757177090719, -0.1876904842324608], \"y\": [-0.020338666824599786, 0.06971801489496608, -0.13655906560704972, 0.08717971753668351], \"topics\": [1, 2, 3, 4], \"cluster\": [1, 1, 1, 1], \"Freq\": [39.543110738919175, 23.60362909182645, 19.514879282023855, 17.338380887230525]}, \"tinfo\": {\"Term\": [\"war\", \"classic\", \"work\", \"great\", \"century\", \"people\", \"history\", \"reader\", \"way\", \"american\", \"secret\", \"character\", \"power\", \"business\", \"write\", \"company\", \"mother\", \"town\", \"old\", \"girl\", \"magic\", \"human\", \"literature\", \"fight\", \"adventure\", \"fiction\", \"art\", \"modern\", \"publish\", \"create\", \"town\", \"husband\", \"boyfriend\", \"neighbor\", \"apartment\", \"accident\", \"kid\", \"store\", \"suspense\", \"summer\", \"car\", \"normal\", \"teenage\", \"baby\", \"ghost\", \"mom\", \"garden\", \"teenager\", \"window\", \"nurse\", \"agree\", \"kiss\", \"notice\", \"clue\", \"unlikely\", \"investigate\", \"connection\", \"happen\", \"loneliness\", \"wedding\", \"stranger\", \"friendship\", \"mother\", \"wife\", \"family\", \"meet\", \"old\", \"daughter\", \"miss\", \"home\", \"sam\", \"child\", \"go\", \"love\", \"past\", \"day\", \"spend\", \"girl\", \"night\", \"secret\", \"friend\", \"father\", \"murder\", \"parent\", \"little\", \"leave\", \"find\", \"know\", \"house\", \"live\", \"year\", \"come\", \"young\", \"school\", \"good\", \"begin\", \"want\", \"turn\", \"woman\", \"man\", \"time\", \"kingdom\", \"monster\", \"lord\", \"witch\", \"warrior\", \"prince\", \"hunt\", \"join\", \"soldier\", \"rebel\", \"enemy\", \"planet\", \"court\", \"captain\", \"throne\", \"palace\", \"heir\", \"lurk\", \"mortal\", \"deadly\", \"blood\", \"magic\", \"queen\", \"forbid\", \"vampire\", \"vengeance\", \"mountain\", \"shadow\", \"stone\", \"princess\", \"evil\", \"king\", \"battle\", \"army\", \"fight\", \"god\", \"destroy\", \"ancient\", \"land\", \"power\", \"war\", \"save\", \"kill\", \"rule\", \"dangerous\", \"fate\", \"survive\", \"dark\", \"earth\", \"find\", \"city\", \"heart\", \"secret\", \"force\", \"know\", \"mysterious\", \"love\", \"girl\", \"hope\", \"old\", \"young\", \"time\", \"want\", \"friend\", \"business\", \"intelligence\", \"system\", \"behavior\", \"achieve\", \"united\", \"belief\", \"explain\", \"sexual\", \"hilarious\", \"professional\", \"company\", \"state\", \"inner\", \"condition\", \"thought\", \"states\", \"physical\", \"insight\", \"office\", \"examine\", \"success\", \"team\", \"lesson\", \"personal\", \"improve\", \"goal\", \"comfort\", \"money\", \"view\", \"research\", \"idea\", \"point\", \"understand\", \"people\", \"social\", \"show\", \"way\", \"change\", \"self\", \"culture\", \"america\", \"life\", \"offer\", \"experience\", \"explore\", \"human\", \"time\", \"woman\", \"need\", \"work\", \"question\", \"black\", \"write\", \"live\", \"help\", \"know\", \"good\", \"thing\", \"lead\", \"think\", \"man\", \"take\", \"find\", \"classic\", \"literature\", \"publish\", \"prize\", \"masterpiece\", \"introduction\", \"novel\", \"translation\", \"film\", \"twentieth\", \"pulitzer\", \"publication\", \"feature\", \"hail\", \"text\", \"award\", \"century\", \"combine\", \"influential\", \"genius\", \"winner\", \"volume\", \"original\", \"writer\", \"historical\", \"magnificent\", \"scholar\", \"library\", \"general\", \"imagination\", \"fiction\", \"literary\", \"character\", \"acclaim\", \"american\", \"modern\", \"reader\", \"adventure\", \"art\", \"great\", \"history\", \"generation\", \"john\", \"include\", \"book\", \"work\", \"write\", \"man\", \"tale\", \"war\", \"year\", \"create\", \"time\", \"human\", \"set\", \"woman\", \"tell\"], \"Freq\": [195.0, 97.0, 300.0, 213.0, 91.0, 266.0, 158.0, 115.0, 289.0, 124.0, 279.0, 90.0, 205.0, 68.0, 134.0, 73.0, 205.0, 118.0, 301.0, 226.0, 81.0, 176.0, 54.0, 102.0, 100.0, 67.0, 80.0, 79.0, 49.0, 96.0, 117.26878813880984, 74.05642576740705, 43.53701871223629, 36.67097668931265, 29.777663060499027, 28.76338275470529, 37.37315569526246, 24.828392183070193, 24.826023607921563, 65.87944452072254, 24.82138201973405, 24.797382278458596, 29.550632515921297, 21.892143973242295, 21.884815269540336, 21.86256067441186, 19.922040069357596, 18.922624222205545, 17.963343323501384, 19.827870436070867, 18.85293100309882, 18.849915108421097, 18.84701752873639, 17.903659097746072, 19.529677973771197, 18.532854817668003, 37.01364421254437, 95.17151554642759, 15.670055190330897, 34.807536026919415, 37.19440904427653, 54.35021727348064, 177.2193864491648, 60.19077319559901, 273.6832020573767, 128.76156981762642, 233.47390628810712, 87.93750024349694, 57.87823384789196, 106.24875676746845, 41.98548139960251, 152.86107793565031, 125.89716383673031, 328.1782323317312, 132.9493107930901, 179.0944606607751, 69.10882040103374, 161.06691438890056, 114.607037538642, 190.6747317263497, 173.86226223043386, 125.57234367513726, 96.79541612902007, 56.8490026225001, 74.72616598767577, 127.22504940795227, 260.44331748362566, 217.24414723394406, 94.8124568460866, 160.2003935823644, 175.93190089748086, 159.7741683706041, 152.00921908709475, 99.34571400576765, 136.8405088902913, 121.70723858447253, 113.99609531932515, 105.32635487961593, 134.4027376730544, 139.68654874381014, 113.36978125206963, 40.178974343628006, 38.21123660484078, 32.38436712762405, 29.45857875186949, 23.614488065438398, 60.445287207562146, 29.221827869357735, 33.929693594150095, 25.433028744522517, 21.629663573250067, 54.42860958247764, 18.727593746211568, 33.69749791161507, 18.717281392775863, 17.7730892115517, 17.75992204882825, 16.76895010970347, 20.41833892827397, 29.41575932883237, 43.662523460719925, 59.54787206795954, 75.62331674864687, 47.670773486759906, 23.696891823157067, 29.629696183553666, 15.622502431837884, 21.624487703509057, 54.56755812130286, 18.16278426072417, 24.962107444602108, 57.42250865555876, 74.23057182552759, 43.15092859821655, 37.14928829398548, 83.06213486879355, 53.34992084380087, 56.821178798164865, 50.466232077133604, 61.74562974975802, 134.3053422721914, 127.93515722565658, 70.35473497090435, 64.27104674151092, 60.264035338720426, 59.47317439392244, 56.656452771099204, 57.62383925918165, 73.87752617151676, 44.87381279406829, 141.3636151291654, 68.6687405609107, 75.54994461878906, 87.91171973704814, 63.22021072827329, 89.33182845537651, 54.23691090438695, 90.27664809706258, 65.21233522042434, 53.4463867781919, 60.15705197182497, 58.11534995434574, 58.89221662944775, 55.04730732815493, 54.61602740477624, 68.09669258152076, 35.13028816551401, 27.37509244163218, 24.466529110747526, 25.356650220883626, 23.443958137523996, 19.594061605929706, 29.853545177409668, 15.714028227753612, 15.711502881505151, 15.703584365834116, 68.8972846089168, 33.19149372604422, 21.084795167887744, 13.96920710459468, 22.217910955459264, 18.704878096557263, 15.767270476627376, 33.21737824437216, 19.018298381532613, 16.415024596545887, 45.87191187579556, 27.72833998587241, 16.547559798145937, 40.007561576042555, 14.8514972833227, 19.246650766802645, 16.167113971633473, 34.50755282717042, 30.73076894338844, 35.21671362129509, 51.21284065414206, 35.60212255604153, 51.67440971990148, 153.24608607489057, 34.26808846925709, 46.25212189852315, 147.07247349690212, 93.3965882000112, 49.06398995735797, 29.20040237956925, 52.081043241036724, 75.26128740856122, 46.91840009005611, 49.892294543852294, 40.53406875840539, 69.7969860899697, 98.45143084354967, 89.61725988110294, 52.29624900386256, 86.58755404005305, 54.97464762895917, 46.14101115509147, 52.93084414971005, 63.109725496020104, 50.002758511188325, 64.90769117791335, 57.520299951924514, 51.59321237089356, 46.494209292824394, 46.192865530259986, 52.64552606151561, 46.67632617025686, 46.15817317912949, 97.19579710656215, 53.68472069865507, 48.73617554124571, 40.782640900558064, 37.841268967772756, 29.93356394436253, 29.924920385563897, 26.954267698999754, 22.989256576357118, 21.017946538678256, 19.042943235224634, 15.088445250003508, 16.018448879131018, 15.077480181356721, 33.542179907944046, 38.06565431758266, 86.08072320804854, 26.762171987241153, 21.89340815452322, 19.710861671116398, 17.900060046179252, 21.458281188759607, 43.71754014065113, 17.522732390498454, 24.187931822449436, 13.786150055317021, 16.253613736422366, 36.79191459190509, 18.787808604563917, 25.478124638120892, 56.6432320982179, 35.28862971885223, 74.64755357594464, 25.045846934121926, 85.26553106059495, 58.36042310344207, 78.37400487008266, 69.00137026696815, 56.42875531558113, 122.91867692177256, 94.23715401843037, 44.50903632681835, 42.93193801558529, 69.48013403580796, 43.055944751350516, 122.04849482037385, 64.43910359736579, 97.20128812083128, 55.048475547056896, 66.40348202764241, 79.65396189243995, 46.939005678476676, 71.20275619686083, 53.323846132968164, 48.89278916479653, 54.76082381627123, 46.16007976480054], \"Total\": [195.0, 97.0, 300.0, 213.0, 91.0, 266.0, 158.0, 115.0, 289.0, 124.0, 279.0, 90.0, 205.0, 68.0, 134.0, 73.0, 205.0, 118.0, 301.0, 226.0, 81.0, 176.0, 54.0, 102.0, 100.0, 67.0, 80.0, 79.0, 49.0, 96.0, 118.17558736875648, 74.84036472342616, 44.310103849406204, 37.41665101904712, 30.522599216722323, 29.53655465185057, 38.39750351984912, 25.596775131775154, 25.596562470350335, 67.93215695591799, 25.596589783148552, 25.59636954974318, 30.519118233311907, 22.643104934925326, 22.64277807284055, 22.64236027658623, 20.6734554563202, 19.687951218940885, 18.70442934978403, 20.67041562006892, 19.687212329350974, 19.687263601356996, 19.6860716176629, 18.703223364113935, 20.66691699340945, 19.68723543110712, 39.367066621911775, 101.37253071801723, 16.728459330500005, 37.39584838697605, 40.346874717149454, 59.99502036244332, 205.5299256708427, 67.84332246811894, 342.30399642160614, 155.2850795799045, 301.5842707106666, 105.18949306924178, 66.8891069758332, 131.68529691246476, 47.21600154119916, 198.6016400525251, 160.22783202118598, 487.28806606797235, 175.8601091906485, 250.32378276174742, 83.50190472516886, 226.79478330964693, 152.23099859467416, 279.73139889472566, 252.23182315246768, 171.78284839322444, 125.75998153747474, 67.80074985694353, 95.31727974047202, 185.48164054159966, 459.7187545211847, 374.25864256143035, 128.8431492214773, 266.6039447869269, 318.6813331241911, 278.65675104747356, 266.18631752979945, 144.27644345555845, 257.9136070317102, 217.74513358619538, 195.9863245036537, 163.86391891343501, 298.0766484718775, 333.07749464794676, 341.9161849219279, 40.92635268086473, 38.9770064755121, 33.13145756560391, 30.20811973973008, 24.362228196177146, 62.379443707114845, 30.209777640899215, 35.082481031599805, 26.309196486067446, 22.412346679968806, 56.53632052472927, 19.48909777088709, 35.07484023810462, 19.488192224505223, 18.516405727771367, 18.514875308763934, 17.539447955899607, 21.440931796167998, 31.19825622075193, 46.757999740850046, 64.35081584668288, 81.90582704510767, 51.694937369269105, 26.32817395696129, 33.174137120048954, 17.558720165090968, 24.35076787544076, 61.45111878903601, 20.478070867276994, 28.289404937935334, 65.39676245490573, 86.81632399204224, 49.78348746524022, 42.95211997437394, 102.45878746692833, 63.42584782102361, 68.32047585884145, 60.55455672707346, 78.18809708913592, 205.74554077103204, 195.92667308567485, 97.67775938788027, 87.94086857043801, 81.75050709670566, 84.06450556929504, 80.13433863785374, 84.07117831781666, 123.34292782402322, 59.48930240388927, 459.7187545211847, 138.1706135158983, 169.44859655911267, 279.73139889472566, 134.16593684033276, 374.25864256143035, 93.94317269450559, 487.28806606797235, 226.79478330964693, 93.79963891103048, 301.5842707106666, 266.18631752979945, 341.9161849219279, 195.9863245036537, 252.23182315246768, 68.86443615037376, 35.89025715657553, 28.131955460514597, 25.22272875110851, 26.193690414111735, 24.252255834236944, 20.3720371713615, 31.044807067558537, 16.492639514958924, 16.492352266681152, 16.494179871313374, 73.79722829465334, 35.90183384997364, 23.287880452909942, 15.526372369641702, 25.232740841462213, 21.37010709200427, 18.461689289246554, 38.898852538684324, 22.35087827330909, 19.449007635915248, 55.44119107540394, 34.023552290430814, 20.388144364313227, 49.602559722391625, 18.493112455463937, 24.27153446625499, 20.398029629021092, 43.71437468823344, 38.94533625978083, 44.797552066724194, 68.18877912440422, 46.67823594100196, 70.10034442034639, 266.1459734398725, 46.796163020234076, 68.23039605171537, 289.7202309497223, 188.4456473966284, 81.04428488832994, 40.96294540718796, 99.53300820548091, 176.8109888051451, 87.83759420965264, 97.85709864546332, 69.3452756671858, 176.87029903754708, 341.9161849219279, 298.0766484718775, 111.23837471722342, 300.5642500034387, 123.13084112168998, 88.78387536435164, 134.42844967834947, 266.6039447869269, 150.42022794138572, 374.25864256143035, 257.9136070317102, 180.99496013317153, 129.25677135453256, 131.0303425394348, 333.07749464794676, 170.26747687167088, 459.7187545211847, 97.99048284074371, 54.43395532879102, 49.48443014801966, 41.5622701148664, 38.59459885015954, 30.675887977916314, 30.6750238711558, 27.705048862627976, 23.74485142445869, 21.765767038529734, 19.786393067112655, 15.827172492433391, 16.81262193997394, 15.826004372196879, 35.59750843907739, 40.562809036026046, 91.97763633698511, 28.674621279535277, 23.737384120594434, 21.753533098120936, 19.765093486739513, 23.719819970666805, 48.42921751309964, 19.75435548885942, 27.648133463113325, 15.816274795423375, 18.75804639092152, 42.48290587320097, 21.72912680948783, 29.665676006125864, 67.22444598030086, 41.52016321735681, 90.8806248197047, 29.604677242393457, 124.14974817963812, 79.75662673485868, 115.06298350321447, 100.5705445434909, 80.01830754020943, 213.4233363233688, 158.39603228012373, 64.1090021747925, 61.27084787903661, 123.94467163028123, 64.02089212162926, 300.5642500034387, 134.42844967834947, 333.07749464794676, 120.14631779240146, 195.92667308567485, 318.6813331241911, 96.11282578203401, 341.9161849219279, 176.87029903754708, 142.43923608928876, 298.0766484718775, 186.5688666615126], \"Category\": [\"Default\", \"Default\", \"Default\", \"Default\", \"Default\", \"Default\", \"Default\", \"Default\", \"Default\", \"Default\", \"Default\", \"Default\", \"Default\", \"Default\", \"Default\", \"Default\", \"Default\", \"Default\", \"Default\", \"Default\", \"Default\", \"Default\", \"Default\", \"Default\", \"Default\", \"Default\", \"Default\", \"Default\", \"Default\", \"Default\", \"Topic1\", \"Topic1\", \"Topic1\", \"Topic1\", \"Topic1\", \"Topic1\", \"Topic1\", \"Topic1\", \"Topic1\", \"Topic1\", \"Topic1\", \"Topic1\", \"Topic1\", \"Topic1\", \"Topic1\", \"Topic1\", \"Topic1\", \"Topic1\", \"Topic1\", \"Topic1\", \"Topic1\", \"Topic1\", \"Topic1\", \"Topic1\", \"Topic1\", \"Topic1\", \"Topic1\", \"Topic1\", \"Topic1\", \"Topic1\", \"Topic1\", \"Topic1\", \"Topic1\", \"Topic1\", \"Topic1\", \"Topic1\", \"Topic1\", \"Topic1\", \"Topic1\", \"Topic1\", \"Topic1\", \"Topic1\", \"Topic1\", \"Topic1\", \"Topic1\", \"Topic1\", \"Topic1\", \"Topic1\", \"Topic1\", \"Topic1\", \"Topic1\", \"Topic1\", \"Topic1\", \"Topic1\", \"Topic1\", \"Topic1\", \"Topic1\", \"Topic1\", \"Topic1\", \"Topic1\", \"Topic1\", \"Topic1\", \"Topic1\", \"Topic1\", \"Topic1\", \"Topic1\", \"Topic1\", \"Topic1\", \"Topic1\", \"Topic1\", \"Topic1\", \"Topic2\", \"Topic2\", \"Topic2\", \"Topic2\", \"Topic2\", \"Topic2\", \"Topic2\", \"Topic2\", \"Topic2\", \"Topic2\", \"Topic2\", \"Topic2\", \"Topic2\", \"Topic2\", \"Topic2\", \"Topic2\", \"Topic2\", \"Topic2\", \"Topic2\", \"Topic2\", \"Topic2\", \"Topic2\", \"Topic2\", \"Topic2\", \"Topic2\", \"Topic2\", \"Topic2\", \"Topic2\", \"Topic2\", \"Topic2\", \"Topic2\", \"Topic2\", \"Topic2\", \"Topic2\", \"Topic2\", \"Topic2\", \"Topic2\", \"Topic2\", \"Topic2\", \"Topic2\", \"Topic2\", \"Topic2\", \"Topic2\", \"Topic2\", \"Topic2\", \"Topic2\", \"Topic2\", \"Topic2\", \"Topic2\", \"Topic2\", \"Topic2\", \"Topic2\", \"Topic2\", \"Topic2\", \"Topic2\", \"Topic2\", \"Topic2\", \"Topic2\", \"Topic2\", \"Topic2\", \"Topic2\", \"Topic2\", \"Topic2\", \"Topic2\", \"Topic3\", \"Topic3\", \"Topic3\", \"Topic3\", \"Topic3\", \"Topic3\", \"Topic3\", \"Topic3\", \"Topic3\", \"Topic3\", \"Topic3\", \"Topic3\", \"Topic3\", \"Topic3\", \"Topic3\", \"Topic3\", \"Topic3\", \"Topic3\", \"Topic3\", \"Topic3\", \"Topic3\", \"Topic3\", \"Topic3\", \"Topic3\", \"Topic3\", \"Topic3\", \"Topic3\", \"Topic3\", \"Topic3\", \"Topic3\", \"Topic3\", \"Topic3\", \"Topic3\", \"Topic3\", \"Topic3\", \"Topic3\", \"Topic3\", \"Topic3\", \"Topic3\", \"Topic3\", \"Topic3\", \"Topic3\", \"Topic3\", \"Topic3\", \"Topic3\", \"Topic3\", \"Topic3\", \"Topic3\", \"Topic3\", \"Topic3\", \"Topic3\", \"Topic3\", \"Topic3\", \"Topic3\", \"Topic3\", \"Topic3\", \"Topic3\", \"Topic3\", \"Topic3\", \"Topic3\", \"Topic3\", \"Topic3\", \"Topic3\", \"Topic3\", \"Topic4\", \"Topic4\", \"Topic4\", \"Topic4\", \"Topic4\", \"Topic4\", \"Topic4\", \"Topic4\", \"Topic4\", \"Topic4\", \"Topic4\", \"Topic4\", \"Topic4\", \"Topic4\", \"Topic4\", \"Topic4\", \"Topic4\", \"Topic4\", \"Topic4\", \"Topic4\", \"Topic4\", \"Topic4\", \"Topic4\", \"Topic4\", \"Topic4\", \"Topic4\", \"Topic4\", \"Topic4\", \"Topic4\", \"Topic4\", \"Topic4\", \"Topic4\", \"Topic4\", \"Topic4\", \"Topic4\", \"Topic4\", \"Topic4\", \"Topic4\", \"Topic4\", \"Topic4\", \"Topic4\", \"Topic4\", \"Topic4\", \"Topic4\", \"Topic4\", \"Topic4\", \"Topic4\", \"Topic4\", \"Topic4\", \"Topic4\", \"Topic4\", \"Topic4\", \"Topic4\", \"Topic4\", \"Topic4\", \"Topic4\", \"Topic4\"], \"logprob\": [30.0, 29.0, 28.0, 27.0, 26.0, 25.0, 24.0, 23.0, 22.0, 21.0, 20.0, 19.0, 18.0, 17.0, 16.0, 15.0, 14.0, 13.0, 12.0, 11.0, 10.0, 9.0, 8.0, 7.0, 6.0, 5.0, 4.0, 3.0, 2.0, 1.0, -5.116, -5.5756, -6.1068, -6.2785, -6.4867, -6.5214, -6.2595, -6.6685, -6.6686, -5.6926, -6.6687, -6.6697, -6.4943, -6.7943, -6.7947, -6.7957, -6.8886, -6.9401, -6.9921, -6.8934, -6.9438, -6.9439, -6.9441, -6.9954, -6.9085, -6.9609, -6.2692, -5.3248, -7.1287, -6.3306, -6.2643, -5.885, -4.7031, -5.7829, -4.2685, -5.0225, -4.4274, -5.4038, -5.8221, -5.2147, -6.1431, -4.8509, -5.045, -4.0869, -4.9905, -4.6925, -5.6448, -4.7986, -5.1389, -4.6299, -4.7222, -5.0476, -5.3079, -5.8401, -5.5666, -5.0345, -4.3181, -4.4994, -5.3286, -4.804, -4.7104, -4.8067, -4.8565, -5.2818, -4.9616, -5.0788, -5.1443, -5.2234, -4.9796, -4.9411, -5.1498, -5.6711, -5.7213, -5.8868, -5.9815, -6.2026, -5.2627, -5.9895, -5.8402, -6.1284, -6.2904, -5.3676, -6.4345, -5.847, -6.435, -6.4868, -6.4875, -6.5449, -6.348, -5.9829, -5.588, -5.2777, -5.0387, -5.5001, -6.1991, -5.9757, -6.6157, -6.2906, -5.365, -6.4651, -6.1471, -5.314, -5.0573, -5.5998, -5.7495, -4.9449, -5.3876, -5.3246, -5.4432, -5.2414, -4.4643, -4.5129, -5.1109, -5.2014, -5.2657, -5.2789, -5.3275, -5.3105, -5.0621, -5.5606, -4.4131, -5.1352, -5.0397, -4.8881, -5.2178, -4.8721, -5.3711, -4.8616, -5.1868, -5.3858, -5.2675, -5.302, -5.2888, -5.3563, -5.3641, -4.9533, -5.6152, -5.8646, -5.9769, -5.9412, -6.0196, -6.199, -5.7779, -6.4197, -6.4198, -6.4203, -4.9416, -5.6719, -6.1257, -6.5374, -6.0733, -6.2455, -6.4163, -5.6712, -6.2288, -6.376, -5.3484, -5.8518, -6.368, -5.4852, -6.4761, -6.2169, -6.3913, -5.6331, -5.749, -5.6127, -5.2382, -5.6018, -5.2293, -4.1422, -5.64, -5.3401, -4.1833, -4.6374, -5.2811, -5.8001, -5.2214, -4.8533, -5.3258, -5.2644, -5.4721, -4.9286, -4.5847, -4.6787, -5.2173, -4.7131, -5.1674, -5.3425, -5.2053, -5.0294, -5.2622, -5.0013, -5.1221, -5.2308, -5.3349, -5.3414, -5.2107, -5.331, -5.3422, -4.4793, -5.0729, -5.1696, -5.3477, -5.4226, -5.657, -5.6573, -5.7618, -5.921, -6.0106, -6.1093, -6.3421, -6.2822, -6.3428, -5.5432, -5.4167, -4.6007, -5.769, -5.9698, -6.0748, -6.1712, -5.9899, -5.2782, -6.1925, -5.8701, -6.4323, -6.2677, -5.4507, -6.1228, -5.8182, -5.0192, -5.4924, -4.7432, -5.8353, -4.6102, -4.9893, -4.6945, -4.8219, -5.023, -4.2445, -4.5102, -5.2603, -5.2964, -4.8149, -5.2935, -4.2516, -4.8903, -4.4792, -5.0478, -4.8602, -4.6783, -5.2071, -4.7905, -5.0796, -5.1664, -5.053, -5.2239], \"loglift\": [30.0, 29.0, 28.0, 27.0, 26.0, 25.0, 24.0, 23.0, 22.0, 21.0, 20.0, 19.0, 18.0, 17.0, 16.0, 15.0, 14.0, 13.0, 12.0, 11.0, 10.0, 9.0, 8.0, 7.0, 6.0, 5.0, 4.0, 3.0, 2.0, 1.0, 0.9201, 0.9172, 0.9102, 0.9076, 0.9031, 0.9013, 0.9007, 0.8973, 0.8972, 0.8971, 0.897, 0.8961, 0.8955, 0.8941, 0.8937, 0.8927, 0.8908, 0.8881, 0.8874, 0.8862, 0.8845, 0.8843, 0.8842, 0.8841, 0.8712, 0.8674, 0.8661, 0.8647, 0.8624, 0.8561, 0.8464, 0.829, 0.7796, 0.8081, 0.7041, 0.7405, 0.6718, 0.7486, 0.7831, 0.7131, 0.8104, 0.666, 0.6866, 0.5325, 0.6481, 0.5929, 0.7386, 0.5856, 0.6439, 0.5445, 0.5557, 0.6144, 0.666, 0.7516, 0.6844, 0.5508, 0.3595, 0.3839, 0.6211, 0.4184, 0.3337, 0.3716, 0.3675, 0.5547, 0.294, 0.3461, 0.3859, 0.4858, 0.1313, 0.0588, -0.1761, 1.4253, 1.4239, 1.421, 1.4186, 1.4126, 1.4123, 1.4105, 1.4104, 1.4099, 1.4082, 1.4058, 1.4039, 1.4037, 1.4034, 1.4028, 1.4021, 1.3988, 1.3949, 1.3849, 1.3753, 1.3662, 1.364, 1.3627, 1.3385, 1.3308, 1.3269, 1.325, 1.325, 1.3238, 1.3186, 1.3137, 1.2872, 1.3008, 1.2986, 1.2339, 1.2708, 1.2595, 1.2615, 1.2077, 1.0172, 1.0176, 1.1156, 1.1302, 1.1388, 1.0977, 1.0971, 1.066, 0.9312, 1.1618, 0.2645, 0.7446, 0.636, 0.2863, 0.6913, 0.0112, 0.8944, -0.2422, 0.1974, 0.8813, -0.1683, -0.078, -0.3151, 0.1739, -0.0863, 1.6228, 1.6126, 1.6067, 1.6036, 1.6015, 1.6001, 1.5951, 1.5949, 1.5856, 1.5855, 1.5849, 1.5653, 1.5555, 1.5346, 1.5283, 1.5067, 1.5008, 1.4762, 1.4761, 1.4725, 1.4644, 1.4445, 1.4294, 1.4253, 1.419, 1.4147, 1.402, 1.4015, 1.3975, 1.3971, 1.3934, 1.3477, 1.3631, 1.329, 1.082, 1.3224, 1.2452, 0.956, 0.932, 1.1321, 1.2955, 0.9863, 0.7799, 1.0069, 0.9604, 1.097, 0.7042, 0.389, 0.4322, 0.8792, 0.3895, 0.8276, 0.9795, 0.7019, 0.1931, 0.5326, -0.118, 0.1335, 0.3789, 0.6115, 0.5914, -0.2108, 0.3399, -0.6645, 1.7441, 1.7384, 1.737, 1.7333, 1.7325, 1.7278, 1.7275, 1.7248, 1.7199, 1.7173, 1.7139, 1.7044, 1.7039, 1.7038, 1.6928, 1.6887, 1.686, 1.6832, 1.6714, 1.6536, 1.6531, 1.652, 1.6499, 1.6324, 1.6185, 1.6149, 1.6089, 1.6084, 1.6068, 1.6001, 1.581, 1.5896, 1.5555, 1.585, 1.3765, 1.4399, 1.3683, 1.3755, 1.403, 1.2005, 1.233, 1.3874, 1.3966, 1.1735, 1.3555, 0.851, 1.0169, 0.5207, 0.9718, 0.6703, 0.3657, 1.0356, 0.1832, 0.5532, 0.683, 0.0579, 0.3556]}, \"token.table\": {\"Topic\": [1, 3, 4, 3, 1, 2, 3, 4, 1, 1, 2, 3, 4, 1, 3, 4, 2, 4, 1, 2, 4, 1, 2, 3, 4, 1, 4, 1, 1, 2, 4, 1, 2, 3, 4, 3, 3, 1, 2, 3, 4, 1, 2, 1, 2, 3, 4, 1, 3, 2, 1, 1, 3, 4, 1, 2, 3, 4, 1, 3, 4, 1, 2, 3, 4, 1, 2, 3, 4, 4, 1, 2, 4, 1, 2, 3, 4, 2, 3, 4, 3, 4, 2, 3, 1, 2, 2, 3, 1, 3, 4, 3, 4, 1, 2, 4, 1, 2, 4, 1, 2, 3, 1, 2, 3, 4, 2, 3, 1, 2, 2, 3, 4, 2, 4, 2, 4, 3, 4, 1, 2, 3, 4, 2, 3, 1, 2, 3, 4, 1, 2, 3, 4, 1, 2, 3, 4, 1, 2, 3, 4, 1, 3, 4, 1, 2, 3, 4, 1, 2, 3, 4, 1, 2, 1, 2, 3, 4, 1, 2, 3, 4, 1, 2, 3, 1, 2, 4, 1, 2, 3, 4, 1, 4, 1, 1, 2, 1, 2, 3, 4, 2, 3, 2, 3, 4, 1, 2, 3, 4, 1, 2, 3, 4, 4, 1, 2, 1, 2, 3, 4, 2, 1, 2, 3, 4, 3, 3, 4, 1, 3, 4, 1, 2, 3, 1, 2, 3, 1, 2, 4, 2, 3, 4, 2, 1, 1, 3, 4, 1, 4, 3, 4, 1, 2, 3, 4, 1, 4, 2, 3, 3, 4, 3, 4, 1, 4, 1, 4, 1, 2, 1, 2, 1, 2, 4, 2, 3, 4, 2, 1, 1, 2, 3, 4, 1, 2, 3, 4, 1, 2, 3, 4, 1, 2, 3, 2, 3, 1, 3, 4, 1, 2, 3, 4, 1, 3, 4, 4, 1, 2, 3, 4, 1, 2, 3, 4, 1, 3, 2, 1, 2, 3, 4, 1, 2, 1, 2, 1, 4, 1, 2, 3, 4, 4, 1, 2, 3, 1, 2, 4, 2, 3, 4, 1, 1, 2, 3, 4, 2, 2, 4, 1, 2, 2, 3, 1, 2, 4, 1, 2, 3, 1, 2, 3, 4, 1, 1, 2, 3, 1, 1, 4, 1, 1, 2, 3, 4, 1, 3, 1, 2, 3, 2, 4, 2, 1, 2, 3, 1, 2, 3, 4, 1, 2, 3, 4, 2, 3, 4, 1, 3, 2, 1, 2, 3, 1, 2, 3, 4, 2, 4, 1, 2, 4, 4, 3, 4, 4, 4, 2, 4, 1, 2, 3, 4, 3, 4, 2, 3, 4, 2, 3, 1, 2, 1, 2, 3, 3, 4, 1, 2, 3, 4, 1, 2, 4, 1, 2, 3, 4, 1, 2, 3, 4, 3, 1, 2, 1, 3, 4, 3, 4, 2, 1, 2, 3, 1, 2, 3, 1, 3, 1, 2, 1, 1, 2, 1, 3, 4, 1, 2, 1, 2, 4, 1, 3, 1, 2, 3, 4, 1, 2, 3, 4, 1, 2, 3, 1, 1, 1, 2, 3, 4, 3, 4, 1, 2, 3, 1, 2, 3, 2, 3, 2, 1, 2, 3, 4, 1, 4, 1, 2, 3, 4, 4, 1, 2, 3, 4, 3, 1, 2, 4, 2, 4, 2, 3, 4, 2, 4, 1, 2, 3, 4, 1, 2, 4, 2, 1, 2, 3, 4, 1, 2, 1, 3, 1, 2, 4, 2, 1, 2, 3, 4, 1, 2, 3, 4, 1, 3, 4, 3, 4, 1, 2, 3, 4, 1, 2, 3, 4], \"Freq\": [0.9818342166791294, 0.1351137851377099, 0.8444611571106869, 0.9544283224226915, 0.11931923064024676, 0.15909230752032902, 0.039773076880082255, 0.6860855761814189, 0.9650934668730914, 0.010046918283988264, 0.22103220224774178, 0.5224397507673897, 0.2411260388157183, 0.12082183185982619, 0.19331493097572192, 0.6846570472056818, 0.8257016928611319, 0.14862630471500374, 0.9828782859214686, 0.8614243027369757, 0.11640868955905077, 0.24994280202627306, 0.024994280202627308, 0.012497140101313654, 0.6998398456735646, 0.04930624992523794, 0.9368187485795209, 0.9715982001243397, 0.020086981666324985, 0.8637402116519743, 0.12052188999794991, 0.5602880670199032, 0.25258888267290713, 0.11481312848768507, 0.07807292737162584, 0.9515227411286825, 0.9817378513384758, 0.1689495974178074, 0.18021290391232792, 0.5181120987479427, 0.12389637143972544, 0.062159274087994175, 0.9323891113199126, 0.10933930734206486, 0.031239802097732815, 0.18743881258639689, 0.6716557451012555, 0.9930015093067682, 0.9874472775978858, 0.9749493324531482, 0.9766926067807159, 0.021744416139075975, 0.03261662420861396, 0.9350098939802669, 0.33431390361275687, 0.11674453776953415, 0.49351100057121255, 0.05306569898615189, 0.09903100928118425, 0.07702411832980997, 0.8252584106765354, 0.7703863873406854, 0.1258801286504388, 0.045316846314157964, 0.060422461752210624, 0.2677848716054422, 0.4993825983993381, 0.04342457377385549, 0.19541058198234967, 0.989892050615227, 0.9624009535456216, 0.0348740438540225, 0.9415991840586074, 0.5741831102191437, 0.193786799698961, 0.13636848867704662, 0.0968933998494805, 0.14707302884450074, 0.7843894871706707, 0.04902434294816692, 0.9349944651647453, 0.054202577690709866, 0.06440654495413707, 0.901691629357919, 0.9398719075351614, 0.050803886893792505, 0.9693558051638127, 0.028510464857759196, 0.0832355092559916, 0.426581984936957, 0.48900861687895064, 0.707956903775558, 0.26853537729417715, 0.24980816645248136, 0.7018419914617333, 0.03568688092178305, 0.31619161866858214, 0.5999533277301302, 0.08918225141934367, 0.8365854557552943, 0.15210644650096258, 0.009506652906310161, 0.7150738856098551, 0.09587582823819286, 0.15180339471047202, 0.035953435589322326, 0.9410154464233738, 0.06416014407432094, 0.16100590433133632, 0.8343033224441974, 0.7564385222486322, 0.13447795951086794, 0.10085846963315095, 0.9551382102480498, 0.03537548926844629, 0.8716027806315992, 0.10703893797230166, 0.8226640813515758, 0.15424951525342045, 0.12262779262929151, 0.02043796543821525, 0.5109491359553813, 0.34744541244965926, 0.03221150635028389, 0.9663451905085167, 0.14420593045146696, 0.04326177913544009, 0.5912443148510146, 0.23072948872234714, 0.8004580807246023, 0.10224829498306964, 0.029213798566591325, 0.06719173670316005, 0.19966471642460082, 0.7113055522626404, 0.024958089553075102, 0.062395223882687756, 0.7334841701517028, 0.18046039106906975, 0.0873195440656789, 0.9516659600819407, 0.11900432771650186, 0.029751081929125466, 0.8479058349800759, 0.15616034891262484, 0.8100818099842413, 0.029280065421117156, 0.9686310345285443, 0.5655631784498336, 0.3067092621593328, 0.10006117772573979, 0.026102915928453856, 0.07596425043641095, 0.9115710052369314, 0.3428590079070767, 0.4695677716988224, 0.07453456693632102, 0.11180185040448153, 0.6898415823399946, 0.21805337372815922, 0.07929213590114881, 0.015858427180229763, 0.9000747007630623, 0.016668050014130784, 0.06667220005652313, 0.9674241464982423, 0.09204235483253372, 0.8744023709090702, 0.17158276726891833, 0.03119686677616697, 0.1091890337165844, 0.7019295024637568, 0.04596954414206765, 0.919390882841353, 0.9716122257272156, 0.709892871654741, 0.2866027121587464, 0.7863802337620082, 0.08737558152911201, 0.08113446856274688, 0.049928903730921154, 0.16480210616931734, 0.7828100043042573, 0.835621466969689, 0.047299328319039, 0.110365099411091, 0.5311856228785788, 0.1318270888895743, 0.22488150457633263, 0.11631801960844791, 0.08902494135511081, 0.18742092916865435, 0.1499367433349235, 0.5763193571936122, 0.9478071436876384, 0.9371374999432206, 0.0591876315753613, 0.43080911546253925, 0.4485135996596299, 0.06491644205599906, 0.05901494732363551, 0.9692437323423194, 0.34569818641853706, 0.2991618920929648, 0.3324021023255164, 0.026592168186041314, 0.9701466316799555, 0.10850642065955161, 0.8680513652764129, 0.1388923679672288, 0.25884486757529007, 0.5934492085872504, 0.8049493943918541, 0.16706496864736595, 0.02278158663373172, 0.3091696336646527, 0.5650341580767791, 0.11727124035555793, 0.7373306269990189, 0.1629888754418884, 0.09313650025250765, 0.2996546072936126, 0.3957702360481676, 0.2996546072936126, 0.959954103096033, 0.9887712369316779, 0.10265618610400895, 0.7479236416149223, 0.14665169443429849, 0.1348359632584814, 0.8427247703655087, 0.8111127878621714, 0.16222255757243428, 0.1371579736054316, 0.1371579736054316, 0.16943043798318022, 0.5567000105161636, 0.04212764114696215, 0.9268081052331673, 0.08588158136779209, 0.9017566043618169, 0.8483540733542717, 0.12853849596276845, 0.975195018729131, 0.9779667999047692, 0.9650923343954508, 0.05079433338923425, 0.29377755691477175, 0.7018019415186214, 0.02850425541737687, 0.9691446841908136, 0.9636043129958516, 0.02604335981069869, 0.2501680999702505, 0.7277617453680015, 0.011371277271375024, 0.8523742609371826, 0.057592855468728554, 0.09214856874996569, 0.9773653741370936, 0.9650909534573598, 0.5798129296757172, 0.23780345963658447, 0.1736766840042471, 0.008015846954042173, 0.012789670515449186, 0.7929595719578495, 0.012789670515449186, 0.1918450577317378, 0.23983269638517815, 0.13925769467526472, 0.3558807752812321, 0.26304231216438895, 0.6847038856738845, 0.2749598281052607, 0.037739584249741664, 0.14714433772850394, 0.8338179137948557, 0.04707775889835347, 0.07061663834753021, 0.8709385396195393, 0.29409936764341443, 0.18663998331216686, 0.4241817802549247, 0.0904921131210506, 0.12042341870924615, 0.02408468374184923, 0.8429639309647231, 0.9920278560290199, 0.786845787082977, 0.1573691574165954, 0.04196510864442544, 0.02098255432221272, 0.6001411574306372, 0.12377911372006893, 0.2363055807383134, 0.04125970457335631, 0.9564538899782691, 0.05977836812364182, 0.9658494479645666, 0.6731131395166302, 0.18469567852590463, 0.057460877763614776, 0.08413914243957878, 0.04663976405068009, 0.9327952810136019, 0.07325486130181731, 0.9278949098230194, 0.12645202652768295, 0.8851641856937807, 0.42032260434760366, 0.13210138993781828, 0.15912212878873566, 0.29122351872655394, 0.9845937289705219, 0.8307301664073973, 0.1159158371731252, 0.05151814985472231, 0.8671068074052057, 0.1046508215833869, 0.014950117369055271, 0.03761442933103401, 0.22568657598620406, 0.727212300399991, 0.9716301538912232, 0.04575154086644955, 0.13725462259934865, 0.8006519651628671, 0.022875770433224776, 0.9749337734254703, 0.9295391317643666, 0.03205307350911609, 0.8611884591612536, 0.13623320257918137, 0.9034622691380647, 0.08213293355800588, 0.7713105458042337, 0.22264634311874787, 0.007951655111383852, 0.4044998578403611, 0.5748155874573552, 0.010644733101062133, 0.3056499170041871, 0.19777347570859163, 0.4674645789475802, 0.02696911032389886, 0.988864556081328, 0.7554308981851696, 0.22334478728952842, 0.026275857328179813, 0.9767010103294448, 0.9651493893252254, 0.9779943489533667, 0.9675664179960652, 0.21630829226322384, 0.12523111657344538, 0.5350784071774485, 0.12523111657344538, 0.13422291344955925, 0.8500784518472085, 0.7725867116708323, 0.1989493678122315, 0.0265265823749642, 0.08259476831146484, 0.9085424514261132, 0.9721912624212911, 0.840698666611614, 0.044247298242716525, 0.11799279531391074, 0.7562829376832457, 0.15353112268757618, 0.05686337877317637, 0.028431689386588185, 0.17659481897297316, 0.16156547267740096, 0.574872495805636, 0.0901760777734331, 0.06048074971916697, 0.8064099962555595, 0.12096149943833394, 0.10833244827519371, 0.8666595862015497, 0.9749040321600877, 0.14996282226362437, 0.08569304129349964, 0.7712373716414967, 0.05346409919154246, 0.6512899356060626, 0.21385639676616983, 0.0777659624604254, 0.9618553233932823, 0.016030922056554705, 0.07069784622150371, 0.8837230777687964, 0.035348923110751856, 0.9864716216579978, 0.9700391365215526, 0.9477371910346688, 0.9902104531350444, 0.9602558655109438, 0.9285241929422353, 0.07737701607851961, 0.4548007590125637, 0.08121442125224353, 0.4466793168873394, 0.016242884250448706, 0.31287212363126565, 0.6778896012010757, 0.9816018069925116, 0.7812926909012545, 0.20090383480317972, 0.7339404014830613, 0.25687914051907146, 0.8895289441938905, 0.10589630288022507, 0.2457058817728971, 0.7166421551709499, 0.030713235221612137, 0.1066209112782638, 0.8529672902261104, 0.6861827033495944, 0.15941618360647145, 0.11782935310043541, 0.027724553670690686, 0.6827978580691297, 0.31458749481719067, 0.003574857895649894, 0.08637253089030554, 0.04935573193731745, 0.6046077162321387, 0.2591175926709166, 0.3018831129720833, 0.25273935039523254, 0.09828752515370154, 0.3440063380379554, 0.9701297348728142, 0.09763858035845083, 0.8950203199524659, 0.27846826487125925, 0.6741863254777856, 0.04396867340072515, 0.7265552944009283, 0.2564312803767982, 0.9502380664966048, 0.826328455944817, 0.023951549447675854, 0.14370929668605514, 0.027853730374297697, 0.055707460748595394, 0.9191731023518239, 0.09358867465611857, 0.8890924092331265, 0.09766544968822757, 0.8789890471940481, 0.9766855344588181, 0.9170474853229, 0.04957013434177838, 0.09018565263505335, 0.8297080042424908, 0.09018565263505335, 0.9715575503193312, 0.029441137888464582, 0.30926175319812294, 0.6898916032881204, 0.01189468281531242, 0.9766936489600367, 0.9597626456467492, 0.39349851910061084, 0.24667071346605457, 0.2760362745929658, 0.08809668338073377, 0.32460420524403716, 0.19975643399633058, 0.016646369499694214, 0.4577751612415909, 0.1469570242789216, 0.02939140485578432, 0.822959335961961, 0.9829903921422839, 0.9650572468770119, 0.4609557936374654, 0.06967936415450059, 0.22511794572992497, 0.2465577500851559, 0.056183707447470886, 0.9551230266070051, 0.5083014462519218, 0.2044255816447946, 0.28730081744673835, 0.488436485470826, 0.1602682217951148, 0.3510637239321562, 0.07926209889627281, 0.8718830878590009, 0.9721109088144008, 0.3304903510952606, 0.17255690897894138, 0.28661995050739414, 0.20765322944923456, 0.9900521977937105, 0.9745516109311385, 0.6407755941408232, 0.17697611647698927, 0.12815511882816463, 0.048820997648824624, 0.9648178243765003, 0.24250950748632566, 0.01426526514625445, 0.7417937876052314, 0.01426526514625445, 0.9483653874181414, 0.9677302137700496, 0.9043189244512211, 0.0904318924451221, 0.9112281447374561, 0.056951759046091004, 0.02567701542823006, 0.7959874782751318, 0.17973910799761042, 0.0843176719921697, 0.8853355559177819, 0.5816732381134825, 0.28063182540562753, 0.1275599206389216, 0.005102396825556864, 0.005103950290437075, 0.6533056371759456, 0.33686071916884697, 0.9851315654192097, 0.2657736387534583, 0.17948349630103677, 0.5073860376202386, 0.04487087407525919, 0.9359327708738263, 0.053481872621361504, 0.8843906491784111, 0.10317890907081465, 0.9623389018391966, 0.050594245894708484, 0.9106964261047528, 0.9600067879054006, 0.4495488012461414, 0.06374199420654243, 0.3019357620309905, 0.18451629901893862, 0.27947435531351106, 0.026616605267953435, 0.2894555822889936, 0.4059032303362899, 0.12646132601154259, 0.39426178109480925, 0.4760896979258074, 0.10124349544726535, 0.9111914590253881, 0.5522758370394172, 0.10668965033716014, 0.09099999587581306, 0.25103447138155327, 0.5710285991051499, 0.2178924917638072, 0.06762180778876775, 0.14275714977628748], \"Term\": [\"accident\", \"acclaim\", \"acclaim\", \"achieve\", \"adventure\", \"adventure\", \"adventure\", \"adventure\", \"agree\", \"america\", \"america\", \"america\", \"america\", \"american\", \"american\", \"american\", \"ancient\", \"ancient\", \"apartment\", \"army\", \"army\", \"art\", \"art\", \"art\", \"art\", \"award\", \"award\", \"baby\", \"battle\", \"battle\", \"battle\", \"begin\", \"begin\", \"begin\", \"begin\", \"behavior\", \"belief\", \"black\", \"black\", \"black\", \"black\", \"blood\", \"blood\", \"book\", \"book\", \"book\", \"book\", \"boyfriend\", \"business\", \"captain\", \"car\", \"century\", \"century\", \"century\", \"change\", \"change\", \"change\", \"change\", \"character\", \"character\", \"character\", \"child\", \"child\", \"child\", \"child\", \"city\", \"city\", \"city\", \"city\", \"classic\", \"clue\", \"combine\", \"combine\", \"come\", \"come\", \"come\", \"come\", \"comfort\", \"comfort\", \"comfort\", \"company\", \"company\", \"condition\", \"condition\", \"connection\", \"connection\", \"court\", \"court\", \"create\", \"create\", \"create\", \"culture\", \"culture\", \"dangerous\", \"dangerous\", \"dangerous\", \"dark\", \"dark\", \"dark\", \"daughter\", \"daughter\", \"daughter\", \"day\", \"day\", \"day\", \"day\", \"deadly\", \"deadly\", \"destroy\", \"destroy\", \"earth\", \"earth\", \"earth\", \"enemy\", \"enemy\", \"evil\", \"evil\", \"examine\", \"examine\", \"experience\", \"experience\", \"experience\", \"experience\", \"explain\", \"explain\", \"explore\", \"explore\", \"explore\", \"explore\", \"family\", \"family\", \"family\", \"family\", \"fate\", \"fate\", \"fate\", \"fate\", \"father\", \"father\", \"father\", \"feature\", \"fiction\", \"fiction\", \"fiction\", \"fight\", \"fight\", \"fight\", \"film\", \"find\", \"find\", \"find\", \"find\", \"forbid\", \"forbid\", \"force\", \"force\", \"force\", \"force\", \"friend\", \"friend\", \"friend\", \"friend\", \"friendship\", \"friendship\", \"friendship\", \"garden\", \"general\", \"general\", \"generation\", \"generation\", \"generation\", \"generation\", \"genius\", \"genius\", \"ghost\", \"girl\", \"girl\", \"go\", \"go\", \"go\", \"go\", \"goal\", \"goal\", \"god\", \"god\", \"god\", \"good\", \"good\", \"good\", \"good\", \"great\", \"great\", \"great\", \"great\", \"hail\", \"happen\", \"happen\", \"heart\", \"heart\", \"heart\", \"heart\", \"heir\", \"help\", \"help\", \"help\", \"help\", \"hilarious\", \"historical\", \"historical\", \"history\", \"history\", \"history\", \"home\", \"home\", \"home\", \"hope\", \"hope\", \"hope\", \"house\", \"house\", \"house\", \"human\", \"human\", \"human\", \"hunt\", \"husband\", \"idea\", \"idea\", \"idea\", \"imagination\", \"imagination\", \"improve\", \"improve\", \"include\", \"include\", \"include\", \"include\", \"influential\", \"influential\", \"inner\", \"inner\", \"insight\", \"insight\", \"intelligence\", \"introduction\", \"investigate\", \"investigate\", \"john\", \"john\", \"join\", \"join\", \"kid\", \"kid\", \"kill\", \"kill\", \"kill\", \"king\", \"king\", \"king\", \"kingdom\", \"kiss\", \"know\", \"know\", \"know\", \"know\", \"land\", \"land\", \"land\", \"land\", \"lead\", \"lead\", \"lead\", \"lead\", \"leave\", \"leave\", \"leave\", \"lesson\", \"lesson\", \"library\", \"library\", \"library\", \"life\", \"life\", \"life\", \"life\", \"literary\", \"literary\", \"literary\", \"literature\", \"little\", \"little\", \"little\", \"little\", \"live\", \"live\", \"live\", \"live\", \"loneliness\", \"loneliness\", \"lord\", \"love\", \"love\", \"love\", \"love\", \"lurk\", \"lurk\", \"magic\", \"magic\", \"magnificent\", \"magnificent\", \"man\", \"man\", \"man\", \"man\", \"masterpiece\", \"meet\", \"meet\", \"meet\", \"miss\", \"miss\", \"miss\", \"modern\", \"modern\", \"modern\", \"mom\", \"money\", \"money\", \"money\", \"money\", \"monster\", \"mortal\", \"mortal\", \"mother\", \"mother\", \"mountain\", \"mountain\", \"murder\", \"murder\", \"murder\", \"mysterious\", \"mysterious\", \"mysterious\", \"need\", \"need\", \"need\", \"need\", \"neighbor\", \"night\", \"night\", \"night\", \"normal\", \"notice\", \"novel\", \"nurse\", \"offer\", \"offer\", \"offer\", \"offer\", \"office\", \"office\", \"old\", \"old\", \"old\", \"original\", \"original\", \"palace\", \"parent\", \"parent\", \"parent\", \"past\", \"past\", \"past\", \"past\", \"people\", \"people\", \"people\", \"people\", \"personal\", \"personal\", \"personal\", \"physical\", \"physical\", \"planet\", \"point\", \"point\", \"point\", \"power\", \"power\", \"power\", \"power\", \"prince\", \"prince\", \"princess\", \"princess\", \"princess\", \"prize\", \"professional\", \"publication\", \"publish\", \"pulitzer\", \"queen\", \"queen\", \"question\", \"question\", \"question\", \"question\", \"reader\", \"reader\", \"rebel\", \"research\", \"research\", \"rule\", \"rule\", \"sam\", \"sam\", \"save\", \"save\", \"save\", \"scholar\", \"scholar\", \"school\", \"school\", \"school\", \"school\", \"secret\", \"secret\", \"secret\", \"self\", \"self\", \"self\", \"self\", \"set\", \"set\", \"set\", \"set\", \"sexual\", \"shadow\", \"shadow\", \"show\", \"show\", \"show\", \"social\", \"social\", \"soldier\", \"spend\", \"spend\", \"spend\", \"state\", \"state\", \"state\", \"states\", \"states\", \"stone\", \"stone\", \"store\", \"stranger\", \"stranger\", \"success\", \"success\", \"success\", \"summer\", \"summer\", \"survive\", \"survive\", \"survive\", \"suspense\", \"system\", \"take\", \"take\", \"take\", \"take\", \"tale\", \"tale\", \"tale\", \"tale\", \"team\", \"team\", \"team\", \"teenage\", \"teenager\", \"tell\", \"tell\", \"tell\", \"tell\", \"text\", \"text\", \"thing\", \"thing\", \"thing\", \"think\", \"think\", \"think\", \"thought\", \"thought\", \"throne\", \"time\", \"time\", \"time\", \"time\", \"town\", \"translation\", \"turn\", \"turn\", \"turn\", \"turn\", \"twentieth\", \"understand\", \"understand\", \"understand\", \"understand\", \"united\", \"unlikely\", \"vampire\", \"vampire\", \"vengeance\", \"vengeance\", \"view\", \"view\", \"view\", \"volume\", \"volume\", \"want\", \"want\", \"want\", \"want\", \"war\", \"war\", \"war\", \"warrior\", \"way\", \"way\", \"way\", \"way\", \"wedding\", \"wedding\", \"wife\", \"wife\", \"window\", \"winner\", \"winner\", \"witch\", \"woman\", \"woman\", \"woman\", \"woman\", \"work\", \"work\", \"work\", \"work\", \"write\", \"write\", \"write\", \"writer\", \"writer\", \"year\", \"year\", \"year\", \"year\", \"young\", \"young\", \"young\", \"young\"]}, \"R\": 30, \"lambda.step\": 0.01, \"plot.opts\": {\"xlab\": \"PC1\", \"ylab\": \"PC2\"}, \"topic.order\": [4, 2, 1, 3]};\n",
       "\n",
       "function LDAvis_load_lib(url, callback){\n",
       "  var s = document.createElement('script');\n",
       "  s.src = url;\n",
       "  s.async = true;\n",
       "  s.onreadystatechange = s.onload = callback;\n",
       "  s.onerror = function(){console.warn(\"failed to load library \" + url);};\n",
       "  document.getElementsByTagName(\"head\")[0].appendChild(s);\n",
       "}\n",
       "\n",
       "if(typeof(LDAvis) !== \"undefined\"){\n",
       "   // already loaded: just create the visualization\n",
       "   !function(LDAvis){\n",
       "       new LDAvis(\"#\" + \"ldavis_el1830023927489978726026811611\", ldavis_el1830023927489978726026811611_data);\n",
       "   }(LDAvis);\n",
       "}else if(typeof define === \"function\" && define.amd){\n",
       "   // require.js is available: use it to load d3/LDAvis\n",
       "   require.config({paths: {d3: \"https://d3js.org/d3.v5\"}});\n",
       "   require([\"d3\"], function(d3){\n",
       "      window.d3 = d3;\n",
       "      LDAvis_load_lib(\"https://cdn.jsdelivr.net/gh/bmabey/pyLDAvis@3.3.1/pyLDAvis/js/ldavis.v3.0.0.js\", function(){\n",
       "        new LDAvis(\"#\" + \"ldavis_el1830023927489978726026811611\", ldavis_el1830023927489978726026811611_data);\n",
       "      });\n",
       "    });\n",
       "}else{\n",
       "    // require.js not available: dynamically load d3 & LDAvis\n",
       "    LDAvis_load_lib(\"https://d3js.org/d3.v5.js\", function(){\n",
       "         LDAvis_load_lib(\"https://cdn.jsdelivr.net/gh/bmabey/pyLDAvis@3.3.1/pyLDAvis/js/ldavis.v3.0.0.js\", function(){\n",
       "                 new LDAvis(\"#\" + \"ldavis_el1830023927489978726026811611\", ldavis_el1830023927489978726026811611_data);\n",
       "            })\n",
       "         });\n",
       "}\n",
       "</script>"
      ],
      "text/plain": [
       "<IPython.core.display.HTML object>"
      ]
     },
     "execution_count": 13,
     "metadata": {},
     "output_type": "execute_result"
    }
   ],
   "source": [
    "# Visualize topics\n",
    "lda_display = pyLDAvis.gensim_models.prepare(lda_model, corpus, dictionary)\n",
    "pyLDAvis.display(lda_display)"
   ]
  },
  {
   "cell_type": "code",
   "execution_count": 21,
   "id": "3028b708",
   "metadata": {},
   "outputs": [],
   "source": [
    "# Save the report\n",
    "pyLDAvis.save_html(lda_display, 'index.html')"
   ]
  },
  {
   "cell_type": "code",
   "execution_count": 15,
   "id": "bd9e41f1",
   "metadata": {},
   "outputs": [
    {
     "data": {
      "text/plain": [
       "0    695\n",
       "1    319\n",
       "2     97\n",
       "3     64\n",
       "Name: topic, dtype: int64"
      ]
     },
     "execution_count": 15,
     "metadata": {},
     "output_type": "execute_result"
    }
   ],
   "source": [
    "#how many books belong to each topic?\n",
    "books['topic'] = [sorted(lda_model[corpus][text])[0][0] for text in range(len(books['description']))]\n",
    "books.topic.value_counts()"
   ]
  },
  {
   "cell_type": "markdown",
   "id": "f23f2f31",
   "metadata": {},
   "source": [
    "#### Let's find the genres of books belonging to a topic"
   ]
  },
  {
   "cell_type": "code",
   "execution_count": 27,
   "id": "b106ab4f",
   "metadata": {},
   "outputs": [
    {
     "name": "stdout",
     "output_type": "stream",
     "text": [
      "Topic 0: \n",
      "\n",
      "1) Nonfiction                     (113.972)\n",
      "2) Self Help                      (111.572)\n",
      "3) Business                       (76.112)\n",
      "4) Psychology                     (59.876)\n",
      "5) Science                        (54.871)\n",
      "6) Biography                      (53.471)\n",
      "7) Personal Development           (51.889)\n",
      "8) Autobiography                  (48.403)\n",
      "9) Philosophy                     (40.720)\n",
      "10) Leadership                     (34.199)\n",
      "\n",
      "\n",
      "Topic 1: \n",
      "\n",
      "1) Fantasy                        (536.720)\n",
      "2) Science Fiction                (131.009)\n",
      "3) Paranormal                     (97.954)\n",
      "4) Adventure                      (90.835)\n",
      "5) Magic                          (89.541)\n",
      "6) Young Adult Fantasy            (86.591)\n",
      "7) High Fantasy                   (66.115)\n",
      "8) Science Fiction Fantasy        (46.583)\n",
      "9) Dystopia                       (45.549)\n",
      "10) Urban Fantasy                  (40.375)\n",
      "\n",
      "\n",
      "Topic 2: \n",
      "\n",
      "1) Literature                     (151.221)\n",
      "2) Classics                       (142.080)\n",
      "3) Novels                         (83.674)\n",
      "4) History                        (48.470)\n",
      "5) Academic                       (37.387)\n",
      "6) European Literature            (30.829)\n",
      "7) School                         (28.560)\n",
      "8) Art                            (24.389)\n",
      "9) American                       (22.892)\n",
      "10) Classic Literature             (21.667)\n",
      "\n",
      "\n",
      "Topic 3: \n",
      "\n",
      "1) Fiction                        (423.323)\n",
      "2) Audiobook                      (322.640)\n",
      "3) Romance                        (278.560)\n",
      "4) Young Adult                    (276.090)\n",
      "5) Adult                          (275.539)\n",
      "6) Contemporary                   (268.885)\n",
      "7) Mystery                        (232.467)\n",
      "8) Thriller                       (232.204)\n",
      "9) Historical                     (172.245)\n",
      "10) Adult Fiction                  (157.268)\n",
      "\n",
      "\n"
     ]
    }
   ],
   "source": [
    "#associate genres to topics\n",
    "\n",
    "\n",
    "def genres_of_topics(model,corpus,num_of_topics):\n",
    "    \"\"\"\n",
    "    Given an LDA model from the book descriptions\n",
    "    returns a list of lists containing for each topic the genres that the model assigns most often to that topic\n",
    "    \"\"\"\n",
    "    #step 1:\n",
    "    #dictionary with genres as keys and values dictionaries with \"summed\" probabilities of belonging to topics \n",
    "    #(sum of probabilities of books that have this genre)\n",
    "    output = {}\n",
    "    #iterate over books\n",
    "    for index, book in books[\"genres\"].items():\n",
    "        #iterate over genres of the book\n",
    "        for genre in book:\n",
    "            \n",
    "            #create output structure if it doesnt exist           \n",
    "            if not output.get(genre):\n",
    "                output[genre] = {}\n",
    "                for ii in range(num_of_topics):\n",
    "                    output[genre][ii] = 0\n",
    "\n",
    "            #add topic probabilities to genre obtained from the current book\n",
    "            for topic in model[corpus][index]:\n",
    "                output[genre][topic[0]] += topic[1]\n",
    "    #step 2:\n",
    "    #dictionary with genres as keys and values their best fitting topic and associated \"summed probability\" value\n",
    "    genres = {}\n",
    "\n",
    "    #lets do it the dumb way:\n",
    "    for genre in output:\n",
    "        dicti = output[genre]\n",
    "        max_topic = max(dicti, key = dicti.get)\n",
    "        genres[genre] = max_topic, dicti[max_topic]\n",
    "\n",
    "    #step 3: list that is the \"step 2\" dictionary inversed\n",
    "    inverse = [(value, key) for key, value in genres.items()]\n",
    "    \n",
    "    #step 4:\n",
    "    #for each topic create list of genres that have the topic as its best fitting, ordered by \"summed probability\" value\n",
    "    #lists of each topic put in one big list\n",
    "    ordered = []\n",
    "\n",
    "    for topic in range(num_of_topics):\n",
    "        outcome = []\n",
    "        for genre in inverse:\n",
    "            if genre[0][0] == topic:\n",
    "                outcome.append((genre[1],genre[0][1]))\n",
    "        outcome = sorted(outcome, key = lambda x: x[1], reverse = True)\n",
    "        ordered.append(outcome)\n",
    "        \n",
    "    return ordered\n",
    "   \n",
    "def make_nice(genres_of_topic,topic):\n",
    "    print(f\"Topic {topic}: \\n\")\n",
    "    for count,genre in enumerate(genres_of_topic,1):\n",
    "        if count < 11:\n",
    "            print(f\"{count}) {genre[0]:<30} ({genre[1]:.3f})\")\n",
    "    print(\"\\n\")\n",
    "\n",
    "    \n",
    "    \n",
    "    \n",
    "genres_of_topics = genres_of_topics(lda_model,corpus,4)\n",
    "    \n",
    "for index,topic in enumerate(genres_of_topics):\n",
    "    make_nice(topic,index)\n",
    "\n",
    "\n"
   ]
  }
 ],
 "metadata": {
  "kernelspec": {
   "display_name": "Python 3 (ipykernel)",
   "language": "python",
   "name": "python3"
  },
  "language_info": {
   "codemirror_mode": {
    "name": "ipython",
    "version": 3
   },
   "file_extension": ".py",
   "mimetype": "text/x-python",
   "name": "python",
   "nbconvert_exporter": "python",
   "pygments_lexer": "ipython3",
   "version": "3.9.13"
  }
 },
 "nbformat": 4,
 "nbformat_minor": 5
}
